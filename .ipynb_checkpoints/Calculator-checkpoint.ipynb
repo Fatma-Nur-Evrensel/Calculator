{
 "cells": [
  {
   "cell_type": "code",
   "execution_count": 1,
   "id": "4da80de4",
   "metadata": {},
   "outputs": [
    {
     "name": "stdout",
     "output_type": "stream",
     "text": [
      "Hesap Makinesi Programına Hoş Geldiniz!\n",
      "İşlem Seçin:\n",
      "1. Toplama\n",
      "Seçiminizi yapın (1): 1\n"
     ]
    },
    {
     "ename": "NameError",
     "evalue": "name 'sayi1' is not defined",
     "output_type": "error",
     "traceback": [
      "\u001b[1;31m---------------------------------------------------------------------------\u001b[0m",
      "\u001b[1;31mNameError\u001b[0m                                 Traceback (most recent call last)",
      "\u001b[1;32m<ipython-input-1-b2de917f7049>\u001b[0m in \u001b[0;36m<module>\u001b[1;34m\u001b[0m\n\u001b[0;32m      8\u001b[0m     \u001b[0msecim\u001b[0m \u001b[1;33m=\u001b[0m \u001b[0minput\u001b[0m\u001b[1;33m(\u001b[0m\u001b[1;34m\"Seçiminizi yapın (1): \"\u001b[0m\u001b[1;33m)\u001b[0m\u001b[1;33m\u001b[0m\u001b[1;33m\u001b[0m\u001b[0m\n\u001b[0;32m      9\u001b[0m     \u001b[1;32mif\u001b[0m \u001b[0msecim\u001b[0m \u001b[1;33m==\u001b[0m \u001b[1;34m'1'\u001b[0m\u001b[1;33m:\u001b[0m\u001b[1;33m\u001b[0m\u001b[1;33m\u001b[0m\u001b[0m\n\u001b[1;32m---> 10\u001b[1;33m         \u001b[0mprint\u001b[0m\u001b[1;33m(\u001b[0m\u001b[1;34m\"Sonuç: \"\u001b[0m\u001b[1;33m,\u001b[0m \u001b[0mtoplama\u001b[0m\u001b[1;33m(\u001b[0m\u001b[0msayi1\u001b[0m\u001b[1;33m,\u001b[0m \u001b[0msayi2\u001b[0m\u001b[1;33m)\u001b[0m\u001b[1;33m)\u001b[0m\u001b[1;33m\u001b[0m\u001b[1;33m\u001b[0m\u001b[0m\n\u001b[0m\u001b[0;32m     11\u001b[0m     \u001b[0mprint\u001b[0m\u001b[1;33m(\u001b[0m\u001b[1;34m\"------------------------\"\u001b[0m\u001b[1;33m)\u001b[0m\u001b[1;33m\u001b[0m\u001b[1;33m\u001b[0m\u001b[0m\n",
      "\u001b[1;31mNameError\u001b[0m: name 'sayi1' is not defined"
     ]
    }
   ],
   "source": [
    "def toplama(sayi1, sayi2):\n",
    "    return sayi1 + sayi2\n",
    "print(\"Hesap Makinesi Programına Hoş Geldiniz!\")\n",
    "\n",
    "while True:\n",
    "    print(\"İşlem Seçin:\")\n",
    "    print(\"1. Toplama\")\n",
    "\n",
    "    secim = input(\"Seçiminizi yapın (1): \")\n",
    "    sayi1 = float(input(\"Birinci sayıyı girin: \"))\n",
    "    sayi2 = float(input(\"İkinci sayıyı girin: \"))\n",
    "    if secim == '1':\n",
    "        print(\"Sonuç: \", toplama(sayi1, sayi2))\n",
    "    print(\"------------------------\")"
   ]
  },
  {
   "cell_type": "code",
   "execution_count": null,
   "id": "3fe7e962",
   "metadata": {},
   "outputs": [],
   "source": []
  }
 ],
 "metadata": {
  "kernelspec": {
   "display_name": "Python 3",
   "language": "python",
   "name": "python3"
  }
 },
 "nbformat": 4,
 "nbformat_minor": 5
}
