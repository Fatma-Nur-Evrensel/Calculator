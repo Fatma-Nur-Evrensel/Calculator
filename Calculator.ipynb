{
 "cells": [
  {
   "cell_type": "code",
   "execution_count": null,
   "id": "ae37e5c7",
   "metadata": {},
   "outputs": [
    {
     "name": "stdout",
     "output_type": "stream",
     "text": [
      "Hesap Makinesi Programına Hoş Geldiniz!\n",
      "İşlem Seçin:\n",
      "1. Toplama\n",
      "2. Çıkarma\n",
      "3. Çarpma\n",
      "4. Bölme\n",
      "Seçiminizi yapın (1/2/3/4): 4\n",
      "Birinci sayıyı girin: 7\n",
      "İkinci sayıyı girin: 3\n",
      "Sonuç:  2.3333333333333335\n",
      "------------------------\n",
      "İşlem Seçin:\n",
      "1. Toplama\n",
      "2. Çıkarma\n",
      "3. Çarpma\n",
      "4. Bölme\n"
     ]
    }
   ],
   "source": [
    "def toplama(sayi1, sayi2):\n",
    "    return sayi1 + sayi2\n",
    "def cikarma(sayi1, sayi2):\n",
    "    return sayi1 - sayi2\n",
    "def carpma(sayi1, sayi2):\n",
    "    return sayi1 * sayi2\n",
    "def bolme(sayi1, sayi2):\n",
    "    if sayi2 != 0:\n",
    "        return sayi1 / sayi2\n",
    "    else:\n",
    "        return \"Hata: Sıfıra bölme hatası!\"\n",
    "print(\"Hesap Makinesi Programına Hoş Geldiniz!\")\n",
    "\n",
    "while True:\n",
    "    print(\"İşlem Seçin:\")\n",
    "    print(\"1. Toplama\")\n",
    "    print(\"2. Çıkarma\")\n",
    "    print(\"3. Çarpma\")\n",
    "    print(\"4. Bölme\")\n",
    "\n",
    "    secim = input(\"Seçiminizi yapın (1/2/3/4): \")\n",
    "    sayi1 = float(input(\"Birinci sayıyı girin: \"))\n",
    "    sayi2 = float(input(\"İkinci sayıyı girin: \"))\n",
    "    if secim == '1':\n",
    "        print(\"Sonuç: \", toplama(sayi1, sayi2))\n",
    "    elif secim == '2':\n",
    "        print(\"Sonuç: \", cikarma(sayi1, sayi2))\n",
    "    elif secim == '3':\n",
    "        print(\"Sonuç: \", carpma(sayi1, sayi2))\n",
    "    elif secim == '4':\n",
    "        print(\"Sonuç: \", bolme(sayi1, sayi2))\n",
    "    print(\"------------------------\")"
   ]
  },
  {
   "cell_type": "code",
   "execution_count": null,
   "id": "88c5813e",
   "metadata": {},
   "outputs": [],
   "source": []
  }
 ],
 "metadata": {
  "kernelspec": {
   "display_name": "Python 3",
   "language": "python",
   "name": "python3"
  },
  "language_info": {
   "codemirror_mode": {
    "name": "ipython",
    "version": 3
   },
   "file_extension": ".py",
   "mimetype": "text/x-python",
   "name": "python",
   "nbconvert_exporter": "python",
   "pygments_lexer": "ipython3",
   "version": "3.8.8"
  }
 },
 "nbformat": 4,
 "nbformat_minor": 5
}
