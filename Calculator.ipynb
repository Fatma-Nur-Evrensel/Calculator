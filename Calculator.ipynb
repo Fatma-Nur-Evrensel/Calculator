{
 "cells": [
  {
   "cell_type": "code",
   "execution_count": null,
   "id": "1c8d7df1",
   "metadata": {},
   "outputs": [
    {
     "name": "stdout",
     "output_type": "stream",
     "text": [
      "Hesap Makinesi Programına Hoş Geldiniz!\n",
      "İşlem Seçin:\n",
      "1. Toplama\n",
      "Seçiminizi yapın (1): 1\n",
      "Birinci sayıyı girin: 2\n",
      "İkinci sayıyı girin: 5\n",
      "Sonuç:  7.0\n",
      "------------------------\n",
      "İşlem Seçin:\n",
      "1. Toplama\n"
     ]
    }
   ],
   "source": [
    "def toplama(sayi1, sayi2):\n",
    "    return sayi1 + sayi2\n",
    "print(\"Hesap Makinesi Programına Hoş Geldiniz!\")\n",
    "\n",
    "while True:\n",
    "    print(\"İşlem Seçin:\")\n",
    "    print(\"1. Toplama\")\n",
    "\n",
    "    secim = input(\"Seçiminizi yapın (1): \")\n",
    "    sayi1 = float(input(\"Birinci sayıyı girin: \"))\n",
    "    sayi2 = float(input(\"İkinci sayıyı girin: \"))\n",
    "    if secim == '1':\n",
    "        print(\"Sonuç: \", toplama(sayi1, sayi2))\n",
    "    print(\"------------------------\")"
   ]
  },
  {
   "cell_type": "code",
   "execution_count": null,
   "id": "f1ca112b",
   "metadata": {},
   "outputs": [],
   "source": []
  }
 ],
 "metadata": {
  "kernelspec": {
   "display_name": "Python 3",
   "language": "python",
   "name": "python3"
  },
  "language_info": {
   "codemirror_mode": {
    "name": "ipython",
    "version": 3
   },
   "file_extension": ".py",
   "mimetype": "text/x-python",
   "name": "python",
   "nbconvert_exporter": "python",
   "pygments_lexer": "ipython3",
   "version": "3.8.8"
  }
 },
 "nbformat": 4,
 "nbformat_minor": 5
}
